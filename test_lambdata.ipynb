{
  "nbformat": 4,
  "nbformat_minor": 0,
  "metadata": {
    "colab": {
      "name": "test_lambdata.ipynb",
      "version": "0.3.2",
      "provenance": [],
      "collapsed_sections": [],
      "include_colab_link": true
    },
    "kernelspec": {
      "name": "python3",
      "display_name": "Python 3"
    }
  },
  "cells": [
    {
      "cell_type": "markdown",
      "metadata": {
        "id": "view-in-github",
        "colab_type": "text"
      },
      "source": [
        "<a href=\"https://colab.research.google.com/github/samirgadkari/lambdata/blob/master/test_lambdata.ipynb\" target=\"_parent\"><img src=\"https://colab.research.google.com/assets/colab-badge.svg\" alt=\"Open In Colab\"/></a>"
      ]
    },
    {
      "metadata": {
        "id": "-LIDqH10YSXl",
        "colab_type": "code",
        "outputId": "ae97217d-c13e-49a6-ce30-c4e256ee6d69",
        "colab": {
          "base_uri": "https://localhost:8080/",
          "height": 361
        }
      },
      "cell_type": "code",
      "source": [
        "!pip install -U --index-url https://test.pypi.org/simple/ lambdata-samirgadkari"
      ],
      "execution_count": 32,
      "outputs": [
        {
          "output_type": "stream",
          "text": [
            "Looking in indexes: https://test.pypi.org/simple/\n",
            "Collecting lambdata-samirgadkari\n",
            "  Downloading https://test-files.pythonhosted.org/packages/2b/70/42eecb7202fe82ff9e9dc022d883a2bb842f3833965393528bad92b22449/lambdata_samirgadkari-0.0.6-py3-none-any.whl\n",
            "Requirement already satisfied, skipping upgrade: numpy in /usr/local/lib/python3.6/dist-packages (from lambdata-samirgadkari) (1.14.6)\n",
            "Requirement already satisfied, skipping upgrade: pandas in /usr/local/lib/python3.6/dist-packages (from lambdata-samirgadkari) (0.22.0)\n",
            "Requirement already satisfied, skipping upgrade: minepy in /usr/local/lib/python3.6/dist-packages (from lambdata-samirgadkari) (1.2.3)\n",
            "Requirement already satisfied, skipping upgrade: pytz>=2011k in /usr/local/lib/python3.6/dist-packages (from pandas->lambdata-samirgadkari) (2018.9)\n",
            "Requirement already satisfied, skipping upgrade: python-dateutil>=2 in /usr/local/lib/python3.6/dist-packages (from pandas->lambdata-samirgadkari) (2.5.3)\n",
            "Requirement already satisfied, skipping upgrade: six>=1.5 in /usr/local/lib/python3.6/dist-packages (from python-dateutil>=2->pandas->lambdata-samirgadkari) (1.11.0)\n",
            "Installing collected packages: lambdata-samirgadkari\n",
            "  Found existing installation: lambdata-samirgadkari 0.0.5\n",
            "    Uninstalling lambdata-samirgadkari-0.0.5:\n",
            "      Successfully uninstalled lambdata-samirgadkari-0.0.5\n",
            "Successfully installed lambdata-samirgadkari-0.0.6\n"
          ],
          "name": "stdout"
        },
        {
          "output_type": "display_data",
          "data": {
            "application/vnd.colab-display-data+json": {
              "pip_warning": {
                "packages": [
                  "lambdata_samirgadkari"
                ]
              }
            }
          },
          "metadata": {
            "tags": []
          }
        }
      ]
    },
    {
      "metadata": {
        "id": "P8ddO76WYbyB",
        "colab_type": "code",
        "colab": {}
      },
      "cell_type": "code",
      "source": [
        "import lambdata_samirgadkari as s"
      ],
      "execution_count": 0,
      "outputs": []
    },
    {
      "metadata": {
        "id": "GdB593_CYqhs",
        "colab_type": "code",
        "colab": {
          "base_uri": "https://localhost:8080/",
          "height": 111
        },
        "outputId": "c039ef9f-87a8-410c-f28c-d1933ffe2b7f"
      },
      "cell_type": "code",
      "source": [
        "import pandas as pd\n",
        "import numpy as np\n",
        "\n",
        "df = pd.DataFrame({'col1': [1, 2, 3, 4, 5, 6], 'col2': [8, 9, 10, 11, np.nan, np.nan]})\n",
        "s.show.nulls(df)"
      ],
      "execution_count": 2,
      "outputs": [
        {
          "output_type": "execute_result",
          "data": {
            "text/html": [
              "<div>\n",
              "<style scoped>\n",
              "    .dataframe tbody tr th:only-of-type {\n",
              "        vertical-align: middle;\n",
              "    }\n",
              "\n",
              "    .dataframe tbody tr th {\n",
              "        vertical-align: top;\n",
              "    }\n",
              "\n",
              "    .dataframe thead th {\n",
              "        text-align: right;\n",
              "    }\n",
              "</style>\n",
              "<table border=\"1\" class=\"dataframe\">\n",
              "  <thead>\n",
              "    <tr style=\"text-align: right;\">\n",
              "      <th></th>\n",
              "      <th>Nulls</th>\n",
              "    </tr>\n",
              "  </thead>\n",
              "  <tbody>\n",
              "    <tr>\n",
              "      <th>col1</th>\n",
              "      <td>0</td>\n",
              "    </tr>\n",
              "    <tr>\n",
              "      <th>col2</th>\n",
              "      <td>2</td>\n",
              "    </tr>\n",
              "  </tbody>\n",
              "</table>\n",
              "</div>"
            ],
            "text/plain": [
              "      Nulls\n",
              "col1      0\n",
              "col2      2"
            ]
          },
          "metadata": {
            "tags": []
          },
          "execution_count": 2
        }
      ]
    },
    {
      "metadata": {
        "id": "EobAtW-vhHWw",
        "colab_type": "code",
        "colab": {
          "base_uri": "https://localhost:8080/",
          "height": 142
        },
        "outputId": "dd001935-d278-4805-d3d9-205b65549e63"
      },
      "cell_type": "code",
      "source": [
        "df = pd.DataFrame({'col1': [11, 2, 3, 4, 5, 16], 'col2': [8, 9, 10, 11, 12 ,13], 'col3': [3, 2, 1, 5, 6, 3]})\n",
        "df.corr()"
      ],
      "execution_count": 4,
      "outputs": [
        {
          "output_type": "execute_result",
          "data": {
            "text/html": [
              "<div>\n",
              "<style scoped>\n",
              "    .dataframe tbody tr th:only-of-type {\n",
              "        vertical-align: middle;\n",
              "    }\n",
              "\n",
              "    .dataframe tbody tr th {\n",
              "        vertical-align: top;\n",
              "    }\n",
              "\n",
              "    .dataframe thead th {\n",
              "        text-align: right;\n",
              "    }\n",
              "</style>\n",
              "<table border=\"1\" class=\"dataframe\">\n",
              "  <thead>\n",
              "    <tr style=\"text-align: right;\">\n",
              "      <th></th>\n",
              "      <th>col1</th>\n",
              "      <th>col2</th>\n",
              "      <th>col3</th>\n",
              "    </tr>\n",
              "  </thead>\n",
              "  <tbody>\n",
              "    <tr>\n",
              "      <th>col1</th>\n",
              "      <td>1.000000</td>\n",
              "      <td>0.340620</td>\n",
              "      <td>0.026076</td>\n",
              "    </tr>\n",
              "    <tr>\n",
              "      <th>col2</th>\n",
              "      <td>0.340620</td>\n",
              "      <td>1.000000</td>\n",
              "      <td>0.459335</td>\n",
              "    </tr>\n",
              "    <tr>\n",
              "      <th>col3</th>\n",
              "      <td>0.026076</td>\n",
              "      <td>0.459335</td>\n",
              "      <td>1.000000</td>\n",
              "    </tr>\n",
              "  </tbody>\n",
              "</table>\n",
              "</div>"
            ],
            "text/plain": [
              "          col1      col2      col3\n",
              "col1  1.000000  0.340620  0.026076\n",
              "col2  0.340620  1.000000  0.459335\n",
              "col3  0.026076  0.459335  1.000000"
            ]
          },
          "metadata": {
            "tags": []
          },
          "execution_count": 4
        }
      ]
    },
    {
      "metadata": {
        "id": "hiNLnz4ZxzRc",
        "colab_type": "code",
        "colab": {
          "base_uri": "https://localhost:8080/",
          "height": 80
        },
        "outputId": "fc0711b0-c27b-4ccd-ad50-4a2ad7842a98"
      },
      "cell_type": "code",
      "source": [
        "df = pd.DataFrame({'col1': [11, 2, 3, 4, 5, 16], 'col2': [8, 9, 10, 11, 12 ,13], 'col3': [3, 2, 1, 5, 6, 3]})\n",
        "s.show.mic(df, 'col1')"
      ],
      "execution_count": 6,
      "outputs": [
        {
          "output_type": "execute_result",
          "data": {
            "text/html": [
              "<div>\n",
              "<style scoped>\n",
              "    .dataframe tbody tr th:only-of-type {\n",
              "        vertical-align: middle;\n",
              "    }\n",
              "\n",
              "    .dataframe tbody tr th {\n",
              "        vertical-align: top;\n",
              "    }\n",
              "\n",
              "    .dataframe thead th {\n",
              "        text-align: right;\n",
              "    }\n",
              "</style>\n",
              "<table border=\"1\" class=\"dataframe\">\n",
              "  <thead>\n",
              "    <tr style=\"text-align: right;\">\n",
              "      <th></th>\n",
              "      <th>col2</th>\n",
              "      <th>col3</th>\n",
              "    </tr>\n",
              "  </thead>\n",
              "  <tbody>\n",
              "    <tr>\n",
              "      <th>MIC-col1</th>\n",
              "      <td>0.459148</td>\n",
              "      <td>0.918296</td>\n",
              "    </tr>\n",
              "  </tbody>\n",
              "</table>\n",
              "</div>"
            ],
            "text/plain": [
              "              col2      col3\n",
              "MIC-col1  0.459148  0.918296"
            ]
          },
          "metadata": {
            "tags": []
          },
          "execution_count": 6
        }
      ]
    },
    {
      "metadata": {
        "id": "iHDoB4tLzjTS",
        "colab_type": "code",
        "colab": {
          "base_uri": "https://localhost:8080/",
          "height": 452
        },
        "outputId": "a5224b97-f10d-4ea4-eb32-5bb6c231a018"
      },
      "cell_type": "code",
      "source": [
        "s.show.all(df, 'col2')"
      ],
      "execution_count": 7,
      "outputs": [
        {
          "output_type": "execute_result",
          "data": {
            "text/html": [
              "<div>\n",
              "<style scoped>\n",
              "    .dataframe tbody tr th:only-of-type {\n",
              "        vertical-align: middle;\n",
              "    }\n",
              "\n",
              "    .dataframe tbody tr th {\n",
              "        vertical-align: top;\n",
              "    }\n",
              "\n",
              "    .dataframe thead th {\n",
              "        text-align: right;\n",
              "    }\n",
              "</style>\n",
              "<table border=\"1\" class=\"dataframe\">\n",
              "  <thead>\n",
              "    <tr style=\"text-align: right;\">\n",
              "      <th></th>\n",
              "      <th>col1</th>\n",
              "      <th>col2</th>\n",
              "      <th>col3</th>\n",
              "    </tr>\n",
              "  </thead>\n",
              "  <tbody>\n",
              "    <tr>\n",
              "      <th>count</th>\n",
              "      <td>6.000000</td>\n",
              "      <td>6.000000</td>\n",
              "      <td>6.000000</td>\n",
              "    </tr>\n",
              "    <tr>\n",
              "      <th>mean</th>\n",
              "      <td>6.833333</td>\n",
              "      <td>10.500000</td>\n",
              "      <td>3.333333</td>\n",
              "    </tr>\n",
              "    <tr>\n",
              "      <th>std</th>\n",
              "      <td>5.492419</td>\n",
              "      <td>1.870829</td>\n",
              "      <td>1.861899</td>\n",
              "    </tr>\n",
              "    <tr>\n",
              "      <th>min</th>\n",
              "      <td>2.000000</td>\n",
              "      <td>8.000000</td>\n",
              "      <td>1.000000</td>\n",
              "    </tr>\n",
              "    <tr>\n",
              "      <th>25%</th>\n",
              "      <td>3.250000</td>\n",
              "      <td>9.250000</td>\n",
              "      <td>2.250000</td>\n",
              "    </tr>\n",
              "    <tr>\n",
              "      <th>50%</th>\n",
              "      <td>4.500000</td>\n",
              "      <td>10.500000</td>\n",
              "      <td>3.000000</td>\n",
              "    </tr>\n",
              "    <tr>\n",
              "      <th>75%</th>\n",
              "      <td>9.500000</td>\n",
              "      <td>11.750000</td>\n",
              "      <td>4.500000</td>\n",
              "    </tr>\n",
              "    <tr>\n",
              "      <th>max</th>\n",
              "      <td>16.000000</td>\n",
              "      <td>13.000000</td>\n",
              "      <td>6.000000</td>\n",
              "    </tr>\n",
              "    <tr>\n",
              "      <th>Nulls</th>\n",
              "      <td>0.000000</td>\n",
              "      <td>0.000000</td>\n",
              "      <td>0.000000</td>\n",
              "    </tr>\n",
              "    <tr>\n",
              "      <th>kendall-col2</th>\n",
              "      <td>0.466667</td>\n",
              "      <td>1.000000</td>\n",
              "      <td>0.276026</td>\n",
              "    </tr>\n",
              "    <tr>\n",
              "      <th>pearson-col2</th>\n",
              "      <td>0.340620</td>\n",
              "      <td>1.000000</td>\n",
              "      <td>0.459335</td>\n",
              "    </tr>\n",
              "    <tr>\n",
              "      <th>spearman-col2</th>\n",
              "      <td>0.428571</td>\n",
              "      <td>1.000000</td>\n",
              "      <td>0.463817</td>\n",
              "    </tr>\n",
              "    <tr>\n",
              "      <th>MIC-col2</th>\n",
              "      <td>0.459148</td>\n",
              "      <td>NaN</td>\n",
              "      <td>0.459148</td>\n",
              "    </tr>\n",
              "  </tbody>\n",
              "</table>\n",
              "</div>"
            ],
            "text/plain": [
              "                    col1       col2      col3\n",
              "count           6.000000   6.000000  6.000000\n",
              "mean            6.833333  10.500000  3.333333\n",
              "std             5.492419   1.870829  1.861899\n",
              "min             2.000000   8.000000  1.000000\n",
              "25%             3.250000   9.250000  2.250000\n",
              "50%             4.500000  10.500000  3.000000\n",
              "75%             9.500000  11.750000  4.500000\n",
              "max            16.000000  13.000000  6.000000\n",
              "Nulls           0.000000   0.000000  0.000000\n",
              "kendall-col2    0.466667   1.000000  0.276026\n",
              "pearson-col2    0.340620   1.000000  0.459335\n",
              "spearman-col2   0.428571   1.000000  0.463817\n",
              "MIC-col2        0.459148        NaN  0.459148"
            ]
          },
          "metadata": {
            "tags": []
          },
          "execution_count": 7
        }
      ]
    },
    {
      "metadata": {
        "id": "dIYy7lroontQ",
        "colab_type": "code",
        "colab": {}
      },
      "cell_type": "code",
      "source": [
        ""
      ],
      "execution_count": 0,
      "outputs": []
    }
  ]
}